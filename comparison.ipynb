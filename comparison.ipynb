{
 "cells": [
  {
   "cell_type": "markdown",
   "id": "6d9f166d",
   "metadata": {},
   "source": [
    "## Comp Plot\n",
    "\n",
    "- Scale 3 sample cryptos to the same scale so that they can be visualized together\n",
    "- Combine with NASDAQ data via Yahoo Fincance api (yfinance)\n"
   ]
  },
  {
   "cell_type": "code",
   "execution_count": 31,
   "id": "3fcedcf1",
   "metadata": {},
   "outputs": [],
   "source": [
    "import pandas as pd\n",
    "import numpy as np\n",
    "import matplotlib.pyplot as plt\n",
    "import yfinance as yf  \n",
    "\n",
    "from sklearn.preprocessing import StandardScaler, MinMaxScaler"
   ]
  },
  {
   "cell_type": "code",
   "execution_count": 32,
   "id": "f09d232b",
   "metadata": {
    "scrolled": true
   },
   "outputs": [
    {
     "name": "stdout",
     "output_type": "stream",
     "text": [
      "[*********************100%%**********************]  1 of 1 completed\n"
     ]
    }
   ],
   "source": [
    "nasdaq = yf.download('NDAQ','2011-01-01','2023-09-18')"
   ]
  },
  {
   "cell_type": "code",
   "execution_count": 33,
   "id": "2e178c67",
   "metadata": {},
   "outputs": [],
   "source": [
    "# Plot the close prices\n",
    "nasdaq = nasdaq[[\"Adj Close\"]]\n",
    "\n",
    "nasdaq = nasdaq.rename(columns={\"Adj Close\":\"nasdaq\"})\n"
   ]
  },
  {
   "cell_type": "code",
   "execution_count": 34,
   "id": "e2111918",
   "metadata": {},
   "outputs": [
    {
     "data": {
      "image/png": "[encoded data removed]",
      "text/plain": [
       "<Figure size 640x480 with 1 Axes>"
      ]
     },
     "metadata": {},
     "output_type": "display_data"
    }
   ],
   "source": [
    "plt.plot(nasdaq)\n",
    "plt.xticks(rotation=90)\n",
    "plt.show()"
   ]
  },
  {
   "cell_type": "code",
   "execution_count": 35,
   "id": "51fd51f7",
   "metadata": {},
   "outputs": [
    {
     "data": {
      "text/html": [
       "<div>\n",
       "<style scoped>\n",
       "    .dataframe tbody tr th:only-of-type {\n",
       "        vertical-align: middle;\n",
       "    }\n",
       "\n",
       "    .dataframe tbody tr th {\n",
       "        vertical-align: top;\n",
       "    }\n",
       "\n",
       "    .dataframe thead th {\n",
       "        text-align: right;\n",
       "    }\n",
       "</style>\n",
       "<table border=\"1\" class=\"dataframe\">\n",
       "  <thead>\n",
       "    <tr style=\"text-align: right;\">\n",
       "      <th></th>\n",
       "      <th>btc</th>\n",
       "    </tr>\n",
       "    <tr>\n",
       "      <th>Date</th>\n",
       "      <th></th>\n",
       "    </tr>\n",
       "  </thead>\n",
       "  <tbody>\n",
       "    <tr>\n",
       "      <th>2011-09-13</th>\n",
       "      <td>5.97</td>\n",
       "    </tr>\n",
       "    <tr>\n",
       "      <th>2011-09-14</th>\n",
       "      <td>5.53</td>\n",
       "    </tr>\n",
       "    <tr>\n",
       "      <th>2011-09-15</th>\n",
       "      <td>5.13</td>\n",
       "    </tr>\n",
       "    <tr>\n",
       "      <th>2011-09-16</th>\n",
       "      <td>4.85</td>\n",
       "    </tr>\n",
       "    <tr>\n",
       "      <th>2011-09-17</th>\n",
       "      <td>4.87</td>\n",
       "    </tr>\n",
       "  </tbody>\n",
       "</table>\n",
       "</div>"
      ],
      "text/plain": [
       "             btc\n",
       "Date            \n",
       "2011-09-13  5.97\n",
       "2011-09-14  5.53\n",
       "2011-09-15  5.13\n",
       "2011-09-16  4.85\n",
       "2011-09-17  4.87"
      ]
     },
     "execution_count": 35,
     "metadata": {},
     "output_type": "execute_result"
    }
   ],
   "source": [
    "btc_df = pd.read_csv('output/btc_lifetime.csv')\n",
    "\n",
    "# #rename columns\n",
    "btc_df = btc_df.rename(columns={\"Close\":\"btc\"})\n",
    "\n",
    "# #convert date to dt, refomat to yyyymmdd\n",
    "btc_df['Date'] = pd.to_datetime(btc_df['Date']).dt.date\n",
    "\n",
    "\n",
    "# #set date as index\n",
    "btc_df.set_index('Date', inplace=True)\n",
    "\n",
    "btc_df.head()"
   ]
  },
  {
   "cell_type": "code",
   "execution_count": 36,
   "id": "76a3a63b",
   "metadata": {},
   "outputs": [
    {
     "data": {
      "text/html": [
       "<div>\n",
       "<style scoped>\n",
       "    .dataframe tbody tr th:only-of-type {\n",
       "        vertical-align: middle;\n",
       "    }\n",
       "\n",
       "    .dataframe tbody tr th {\n",
       "        vertical-align: top;\n",
       "    }\n",
       "\n",
       "    .dataframe thead th {\n",
       "        text-align: right;\n",
       "    }\n",
       "</style>\n",
       "<table border=\"1\" class=\"dataframe\">\n",
       "  <thead>\n",
       "    <tr style=\"text-align: right;\">\n",
       "      <th></th>\n",
       "      <th>eth</th>\n",
       "    </tr>\n",
       "    <tr>\n",
       "      <th>Date</th>\n",
       "      <th></th>\n",
       "    </tr>\n",
       "  </thead>\n",
       "  <tbody>\n",
       "    <tr>\n",
       "      <th>2017-08-20</th>\n",
       "      <td>298.40</td>\n",
       "    </tr>\n",
       "    <tr>\n",
       "      <th>2017-08-21</th>\n",
       "      <td>319.31</td>\n",
       "    </tr>\n",
       "    <tr>\n",
       "      <th>2017-08-22</th>\n",
       "      <td>312.22</td>\n",
       "    </tr>\n",
       "    <tr>\n",
       "      <th>2017-08-23</th>\n",
       "      <td>315.61</td>\n",
       "    </tr>\n",
       "    <tr>\n",
       "      <th>2017-08-24</th>\n",
       "      <td>323.84</td>\n",
       "    </tr>\n",
       "  </tbody>\n",
       "</table>\n",
       "</div>"
      ],
      "text/plain": [
       "               eth\n",
       "Date              \n",
       "2017-08-20  298.40\n",
       "2017-08-21  319.31\n",
       "2017-08-22  312.22\n",
       "2017-08-23  315.61\n",
       "2017-08-24  323.84"
      ]
     },
     "execution_count": 36,
     "metadata": {},
     "output_type": "execute_result"
    }
   ],
   "source": [
    "eth_df = pd.read_csv('output/eth_lifetime.csv')\n",
    "\n",
    "# #rename columns\n",
    "eth_df = eth_df.rename(columns={\"Close\":\"eth\"})\n",
    "\n",
    "# #convert date to dt, refomat to yyyymmdd\n",
    "eth_df['Date'] = pd.to_datetime(eth_df['Date']).dt.date\n",
    "\n",
    "\n",
    "# # #set date as index\n",
    "eth_df.set_index('Date', inplace=True)\n",
    "\n",
    "eth_df.head()"
   ]
  },
  {
   "cell_type": "code",
   "execution_count": 37,
   "id": "b24c3709",
   "metadata": {},
   "outputs": [
    {
     "data": {
      "text/html": [
       "<div>\n",
       "<style scoped>\n",
       "    .dataframe tbody tr th:only-of-type {\n",
       "        vertical-align: middle;\n",
       "    }\n",
       "\n",
       "    .dataframe tbody tr th {\n",
       "        vertical-align: top;\n",
       "    }\n",
       "\n",
       "    .dataframe thead th {\n",
       "        text-align: right;\n",
       "    }\n",
       "</style>\n",
       "<table border=\"1\" class=\"dataframe\">\n",
       "  <thead>\n",
       "    <tr style=\"text-align: right;\">\n",
       "      <th></th>\n",
       "      <th>ltc</th>\n",
       "    </tr>\n",
       "    <tr>\n",
       "      <th>Date</th>\n",
       "      <th></th>\n",
       "    </tr>\n",
       "  </thead>\n",
       "  <tbody>\n",
       "    <tr>\n",
       "      <th>2017-06-28</th>\n",
       "      <td>42.04</td>\n",
       "    </tr>\n",
       "    <tr>\n",
       "      <th>2017-06-29</th>\n",
       "      <td>40.50</td>\n",
       "    </tr>\n",
       "    <tr>\n",
       "      <th>2017-06-30</th>\n",
       "      <td>39.88</td>\n",
       "    </tr>\n",
       "    <tr>\n",
       "      <th>2017-07-01</th>\n",
       "      <td>38.10</td>\n",
       "    </tr>\n",
       "    <tr>\n",
       "      <th>2017-07-02</th>\n",
       "      <td>41.42</td>\n",
       "    </tr>\n",
       "  </tbody>\n",
       "</table>\n",
       "</div>"
      ],
      "text/plain": [
       "              ltc\n",
       "Date             \n",
       "2017-06-28  42.04\n",
       "2017-06-29  40.50\n",
       "2017-06-30  39.88\n",
       "2017-07-01  38.10\n",
       "2017-07-02  41.42"
      ]
     },
     "execution_count": 37,
     "metadata": {},
     "output_type": "execute_result"
    }
   ],
   "source": [
    "ltc_df = pd.read_csv('output/ltc_lifetime.csv')\n",
    "\n",
    "# #rename columns\n",
    "ltc_df = ltc_df.rename(columns={\"Close\":\"ltc\"})\n",
    "\n",
    "# #convert date to dt, refomat to yyyymmdd\n",
    "ltc_df['Date'] = pd.to_datetime(ltc_df['Date']).dt.date\n",
    "\n",
    "\n",
    "# # #set date as index\n",
    "ltc_df.set_index('Date', inplace=True)\n",
    "\n",
    "ltc_df.head()"
   ]
  },
  {
   "cell_type": "code",
   "execution_count": 38,
   "id": "21bd9263",
   "metadata": {},
   "outputs": [
    {
     "data": {
      "text/html": [
       "<div>\n",
       "<style scoped>\n",
       "    .dataframe tbody tr th:only-of-type {\n",
       "        vertical-align: middle;\n",
       "    }\n",
       "\n",
       "    .dataframe tbody tr th {\n",
       "        vertical-align: top;\n",
       "    }\n",
       "\n",
       "    .dataframe thead th {\n",
       "        text-align: right;\n",
       "    }\n",
       "</style>\n",
       "<table border=\"1\" class=\"dataframe\">\n",
       "  <thead>\n",
       "    <tr style=\"text-align: right;\">\n",
       "      <th></th>\n",
       "      <th>nasdaq</th>\n",
       "      <th>btc</th>\n",
       "      <th>eth</th>\n",
       "      <th>ltc</th>\n",
       "    </tr>\n",
       "    <tr>\n",
       "      <th>Date</th>\n",
       "      <th></th>\n",
       "      <th></th>\n",
       "      <th></th>\n",
       "      <th></th>\n",
       "    </tr>\n",
       "  </thead>\n",
       "  <tbody>\n",
       "    <tr>\n",
       "      <th>2017-08-21</th>\n",
       "      <td>22.648438</td>\n",
       "      <td>3987.52</td>\n",
       "      <td>319.31</td>\n",
       "      <td>47.66</td>\n",
       "    </tr>\n",
       "    <tr>\n",
       "      <th>2017-08-22</th>\n",
       "      <td>22.994379</td>\n",
       "      <td>4085.00</td>\n",
       "      <td>312.22</td>\n",
       "      <td>46.29</td>\n",
       "    </tr>\n",
       "    <tr>\n",
       "      <th>2017-08-23</th>\n",
       "      <td>22.768766</td>\n",
       "      <td>4108.12</td>\n",
       "      <td>315.61</td>\n",
       "      <td>52.89</td>\n",
       "    </tr>\n",
       "    <tr>\n",
       "      <th>2017-08-24</th>\n",
       "      <td>22.543152</td>\n",
       "      <td>4300.34</td>\n",
       "      <td>323.84</td>\n",
       "      <td>49.83</td>\n",
       "    </tr>\n",
       "    <tr>\n",
       "      <th>2017-08-25</th>\n",
       "      <td>22.786814</td>\n",
       "      <td>4355.98</td>\n",
       "      <td>329.00</td>\n",
       "      <td>50.95</td>\n",
       "    </tr>\n",
       "  </tbody>\n",
       "</table>\n",
       "</div>"
      ],
      "text/plain": [
       "               nasdaq      btc     eth    ltc\n",
       "Date                                         \n",
       "2017-08-21  22.648438  3987.52  319.31  47.66\n",
       "2017-08-22  22.994379  4085.00  312.22  46.29\n",
       "2017-08-23  22.768766  4108.12  315.61  52.89\n",
       "2017-08-24  22.543152  4300.34  323.84  49.83\n",
       "2017-08-25  22.786814  4355.98  329.00  50.95"
      ]
     },
     "execution_count": 38,
     "metadata": {},
     "output_type": "execute_result"
    }
   ],
   "source": [
    "df = pd.merge(nasdaq, btc_df,how='outer', left_index=True, right_index=True)\n",
    "df_2 = pd.merge(df,eth_df, how='outer', left_index=True, right_index=True)\n",
    "combined_df = pd.merge(df_2,ltc_df, how='outer', left_index=True, right_index=True)\n",
    "\n",
    "combined_df =combined_df.dropna()\n",
    "combined_df.head()"
   ]
  },
  {
   "cell_type": "code",
   "execution_count": 39,
   "id": "e8271226",
   "metadata": {},
   "outputs": [
    {
     "data": {
      "text/html": [
       "<div>\n",
       "<style scoped>\n",
       "    .dataframe tbody tr th:only-of-type {\n",
       "        vertical-align: middle;\n",
       "    }\n",
       "\n",
       "    .dataframe tbody tr th {\n",
       "        vertical-align: top;\n",
       "    }\n",
       "\n",
       "    .dataframe thead th {\n",
       "        text-align: right;\n",
       "    }\n",
       "</style>\n",
       "<table border=\"1\" class=\"dataframe\">\n",
       "  <thead>\n",
       "    <tr style=\"text-align: right;\">\n",
       "      <th></th>\n",
       "      <th>nasdaq</th>\n",
       "      <th>btc</th>\n",
       "      <th>eth</th>\n",
       "      <th>ltc</th>\n",
       "    </tr>\n",
       "    <tr>\n",
       "      <th>Date</th>\n",
       "      <th></th>\n",
       "      <th></th>\n",
       "      <th></th>\n",
       "      <th></th>\n",
       "    </tr>\n",
       "  </thead>\n",
       "  <tbody>\n",
       "    <tr>\n",
       "      <th>2017-08-21</th>\n",
       "      <td>0.018818</td>\n",
       "      <td>0.012302</td>\n",
       "      <td>0.049993</td>\n",
       "      <td>0.069919</td>\n",
       "    </tr>\n",
       "    <tr>\n",
       "      <th>2017-08-22</th>\n",
       "      <td>0.026149</td>\n",
       "      <td>0.013816</td>\n",
       "      <td>0.048493</td>\n",
       "      <td>0.066062</td>\n",
       "    </tr>\n",
       "    <tr>\n",
       "      <th>2017-08-23</th>\n",
       "      <td>0.021368</td>\n",
       "      <td>0.014175</td>\n",
       "      <td>0.049210</td>\n",
       "      <td>0.084640</td>\n",
       "    </tr>\n",
       "    <tr>\n",
       "      <th>2017-08-24</th>\n",
       "      <td>0.016587</td>\n",
       "      <td>0.017162</td>\n",
       "      <td>0.050951</td>\n",
       "      <td>0.076027</td>\n",
       "    </tr>\n",
       "    <tr>\n",
       "      <th>2017-08-25</th>\n",
       "      <td>0.021751</td>\n",
       "      <td>0.018026</td>\n",
       "      <td>0.052042</td>\n",
       "      <td>0.079179</td>\n",
       "    </tr>\n",
       "  </tbody>\n",
       "</table>\n",
       "</div>"
      ],
      "text/plain": [
       "              nasdaq       btc       eth       ltc\n",
       "Date                                              \n",
       "2017-08-21  0.018818  0.012302  0.049993  0.069919\n",
       "2017-08-22  0.026149  0.013816  0.048493  0.066062\n",
       "2017-08-23  0.021368  0.014175  0.049210  0.084640\n",
       "2017-08-24  0.016587  0.017162  0.050951  0.076027\n",
       "2017-08-25  0.021751  0.018026  0.052042  0.079179"
      ]
     },
     "execution_count": 39,
     "metadata": {},
     "output_type": "execute_result"
    }
   ],
   "source": [
    "scaler = StandardScaler(with_std=True)\n",
    "scaler.fit(combined_df)\n",
    "\n",
    "scaled= scaler.transform(combined_df)\n",
    "\n",
    "min_max_scaler = MinMaxScaler()  # Default range is [0, 1], so this is optional.\n",
    "min_max_scaled_data = min_max_scaler.fit_transform(scaled)\n",
    "\n",
    "scaled_df = pd.DataFrame(min_max_scaled_data, columns=(\"nasdaq\",\"btc\", \"eth\", \"ltc\"), index=combined_df.index)\n",
    "\n",
    "scaled_df.head()"
   ]
  },
  {
   "cell_type": "code",
   "execution_count": 40,
   "id": "6ecbba1f",
   "metadata": {
    "scrolled": true
   },
   "outputs": [
    {
     "data": {
      "image/png": "[encoded data removed]",
      "text/plain": [
       "<Figure size 640x480 with 1 Axes>"
      ]
     },
     "metadata": {},
     "output_type": "display_data"
    }
   ],
   "source": [
    "plt.plot(scaled_df)\n",
    "\n",
    "\n",
    "\n",
    "plt.legend(['NASDAQ','BTC', 'ETH','LTC'])\n",
    "plt.show()"
   ]
  },
  {
   "cell_type": "code",
   "execution_count": 41,
   "id": "9067cb16",
   "metadata": {},
   "outputs": [],
   "source": [
    "scaled_df.to_csv('output/scaled_comparison.csv') "
   ]
  },
  {
   "cell_type": "code",
   "execution_count": 42,
   "id": "e3496a14",
   "metadata": {},
   "outputs": [
    {
     "data": {
      "text/html": [
       "<div>\n",
       "<style scoped>\n",
       "    .dataframe tbody tr th:only-of-type {\n",
       "        vertical-align: middle;\n",
       "    }\n",
       "\n",
       "    .dataframe tbody tr th {\n",
       "        vertical-align: top;\n",
       "    }\n",
       "\n",
       "    .dataframe thead th {\n",
       "        text-align: right;\n",
       "    }\n",
       "</style>\n",
       "<table border=\"1\" class=\"dataframe\">\n",
       "  <thead>\n",
       "    <tr style=\"text-align: right;\">\n",
       "      <th></th>\n",
       "      <th>nasdaq</th>\n",
       "      <th>btc</th>\n",
       "      <th>eth</th>\n",
       "      <th>ltc</th>\n",
       "    </tr>\n",
       "    <tr>\n",
       "      <th>Date</th>\n",
       "      <th></th>\n",
       "      <th></th>\n",
       "      <th></th>\n",
       "      <th></th>\n",
       "    </tr>\n",
       "  </thead>\n",
       "  <tbody>\n",
       "    <tr>\n",
       "      <th>2017-08-21</th>\n",
       "      <td>22.648438</td>\n",
       "      <td>3987.52</td>\n",
       "      <td>319.31</td>\n",
       "      <td>47.66</td>\n",
       "    </tr>\n",
       "    <tr>\n",
       "      <th>2017-08-22</th>\n",
       "      <td>22.994379</td>\n",
       "      <td>4085.00</td>\n",
       "      <td>312.22</td>\n",
       "      <td>46.29</td>\n",
       "    </tr>\n",
       "    <tr>\n",
       "      <th>2017-08-23</th>\n",
       "      <td>22.768766</td>\n",
       "      <td>4108.12</td>\n",
       "      <td>315.61</td>\n",
       "      <td>52.89</td>\n",
       "    </tr>\n",
       "    <tr>\n",
       "      <th>2017-08-24</th>\n",
       "      <td>22.543152</td>\n",
       "      <td>4300.34</td>\n",
       "      <td>323.84</td>\n",
       "      <td>49.83</td>\n",
       "    </tr>\n",
       "    <tr>\n",
       "      <th>2017-08-25</th>\n",
       "      <td>22.786814</td>\n",
       "      <td>4355.98</td>\n",
       "      <td>329.00</td>\n",
       "      <td>50.95</td>\n",
       "    </tr>\n",
       "  </tbody>\n",
       "</table>\n",
       "</div>"
      ],
      "text/plain": [
       "               nasdaq      btc     eth    ltc\n",
       "Date                                         \n",
       "2017-08-21  22.648438  3987.52  319.31  47.66\n",
       "2017-08-22  22.994379  4085.00  312.22  46.29\n",
       "2017-08-23  22.768766  4108.12  315.61  52.89\n",
       "2017-08-24  22.543152  4300.34  323.84  49.83\n",
       "2017-08-25  22.786814  4355.98  329.00  50.95"
      ]
     },
     "execution_count": 42,
     "metadata": {},
     "output_type": "execute_result"
    }
   ],
   "source": [
    "combined_df.head()"
   ]
  },
  {
   "cell_type": "code",
   "execution_count": 43,
   "id": "bdcdb20e",
   "metadata": {},
   "outputs": [],
   "source": [
    "# log_df = np.diff(np.log(combined_df))\n",
    "\n",
    "# log_df.head()"
   ]
  },
  {
   "cell_type": "code",
   "execution_count": 44,
   "id": "99475e68",
   "metadata": {},
   "outputs": [],
   "source": [
    "scaled_df.to_csv('output/log_comparison.csv') "
   ]
  },
  {
   "cell_type": "code",
   "execution_count": null,
   "id": "a02630d2",
   "metadata": {},
   "outputs": [],
   "source": []
  }
 ],
 "metadata": {
  "kernelspec": {
   "display_name": "Python 3 (ipykernel)",
   "language": "python",
   "name": "python3"
  },
  "language_info": {
   "codemirror_mode": {
    "name": "ipython",
    "version": 3
   },
   "file_extension": ".py",
   "mimetype": "text/x-python",
   "name": "python",
   "nbconvert_exporter": "python",
   "pygments_lexer": "ipython3",
   "version": "3.10.10"
  }
 },
 "nbformat": 4,
 "nbformat_minor": 5
}
